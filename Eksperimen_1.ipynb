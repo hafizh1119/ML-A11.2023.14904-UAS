{
  "nbformat": 4,
  "nbformat_minor": 0,
  "metadata": {
    "colab": {
      "provenance": []
    },
    "kernelspec": {
      "name": "python3",
      "display_name": "Python 3"
    },
    "language_info": {
      "name": "python"
    }
  },
  "cells": [
    {
      "cell_type": "markdown",
      "source": [
        "**Upload File**"
      ],
      "metadata": {
        "id": "mC7uEaTls7Wi"
      }
    },
    {
      "cell_type": "code",
      "execution_count": 2,
      "metadata": {
        "colab": {
          "base_uri": "https://localhost:8080/",
          "height": 73
        },
        "id": "W6ivkk0MP2f-",
        "outputId": "ceb6dcb5-77ad-40a0-f686-e83c5f8f7531"
      },
      "outputs": [
        {
          "output_type": "display_data",
          "data": {
            "text/plain": [
              "<IPython.core.display.HTML object>"
            ],
            "text/html": [
              "\n",
              "     <input type=\"file\" id=\"files-277b4b22-d901-41fd-a689-29f90d2753d8\" name=\"files[]\" multiple disabled\n",
              "        style=\"border:none\" />\n",
              "     <output id=\"result-277b4b22-d901-41fd-a689-29f90d2753d8\">\n",
              "      Upload widget is only available when the cell has been executed in the\n",
              "      current browser session. Please rerun this cell to enable.\n",
              "      </output>\n",
              "      <script>// Copyright 2017 Google LLC\n",
              "//\n",
              "// Licensed under the Apache License, Version 2.0 (the \"License\");\n",
              "// you may not use this file except in compliance with the License.\n",
              "// You may obtain a copy of the License at\n",
              "//\n",
              "//      http://www.apache.org/licenses/LICENSE-2.0\n",
              "//\n",
              "// Unless required by applicable law or agreed to in writing, software\n",
              "// distributed under the License is distributed on an \"AS IS\" BASIS,\n",
              "// WITHOUT WARRANTIES OR CONDITIONS OF ANY KIND, either express or implied.\n",
              "// See the License for the specific language governing permissions and\n",
              "// limitations under the License.\n",
              "\n",
              "/**\n",
              " * @fileoverview Helpers for google.colab Python module.\n",
              " */\n",
              "(function(scope) {\n",
              "function span(text, styleAttributes = {}) {\n",
              "  const element = document.createElement('span');\n",
              "  element.textContent = text;\n",
              "  for (const key of Object.keys(styleAttributes)) {\n",
              "    element.style[key] = styleAttributes[key];\n",
              "  }\n",
              "  return element;\n",
              "}\n",
              "\n",
              "// Max number of bytes which will be uploaded at a time.\n",
              "const MAX_PAYLOAD_SIZE = 100 * 1024;\n",
              "\n",
              "function _uploadFiles(inputId, outputId) {\n",
              "  const steps = uploadFilesStep(inputId, outputId);\n",
              "  const outputElement = document.getElementById(outputId);\n",
              "  // Cache steps on the outputElement to make it available for the next call\n",
              "  // to uploadFilesContinue from Python.\n",
              "  outputElement.steps = steps;\n",
              "\n",
              "  return _uploadFilesContinue(outputId);\n",
              "}\n",
              "\n",
              "// This is roughly an async generator (not supported in the browser yet),\n",
              "// where there are multiple asynchronous steps and the Python side is going\n",
              "// to poll for completion of each step.\n",
              "// This uses a Promise to block the python side on completion of each step,\n",
              "// then passes the result of the previous step as the input to the next step.\n",
              "function _uploadFilesContinue(outputId) {\n",
              "  const outputElement = document.getElementById(outputId);\n",
              "  const steps = outputElement.steps;\n",
              "\n",
              "  const next = steps.next(outputElement.lastPromiseValue);\n",
              "  return Promise.resolve(next.value.promise).then((value) => {\n",
              "    // Cache the last promise value to make it available to the next\n",
              "    // step of the generator.\n",
              "    outputElement.lastPromiseValue = value;\n",
              "    return next.value.response;\n",
              "  });\n",
              "}\n",
              "\n",
              "/**\n",
              " * Generator function which is called between each async step of the upload\n",
              " * process.\n",
              " * @param {string} inputId Element ID of the input file picker element.\n",
              " * @param {string} outputId Element ID of the output display.\n",
              " * @return {!Iterable<!Object>} Iterable of next steps.\n",
              " */\n",
              "function* uploadFilesStep(inputId, outputId) {\n",
              "  const inputElement = document.getElementById(inputId);\n",
              "  inputElement.disabled = false;\n",
              "\n",
              "  const outputElement = document.getElementById(outputId);\n",
              "  outputElement.innerHTML = '';\n",
              "\n",
              "  const pickedPromise = new Promise((resolve) => {\n",
              "    inputElement.addEventListener('change', (e) => {\n",
              "      resolve(e.target.files);\n",
              "    });\n",
              "  });\n",
              "\n",
              "  const cancel = document.createElement('button');\n",
              "  inputElement.parentElement.appendChild(cancel);\n",
              "  cancel.textContent = 'Cancel upload';\n",
              "  const cancelPromise = new Promise((resolve) => {\n",
              "    cancel.onclick = () => {\n",
              "      resolve(null);\n",
              "    };\n",
              "  });\n",
              "\n",
              "  // Wait for the user to pick the files.\n",
              "  const files = yield {\n",
              "    promise: Promise.race([pickedPromise, cancelPromise]),\n",
              "    response: {\n",
              "      action: 'starting',\n",
              "    }\n",
              "  };\n",
              "\n",
              "  cancel.remove();\n",
              "\n",
              "  // Disable the input element since further picks are not allowed.\n",
              "  inputElement.disabled = true;\n",
              "\n",
              "  if (!files) {\n",
              "    return {\n",
              "      response: {\n",
              "        action: 'complete',\n",
              "      }\n",
              "    };\n",
              "  }\n",
              "\n",
              "  for (const file of files) {\n",
              "    const li = document.createElement('li');\n",
              "    li.append(span(file.name, {fontWeight: 'bold'}));\n",
              "    li.append(span(\n",
              "        `(${file.type || 'n/a'}) - ${file.size} bytes, ` +\n",
              "        `last modified: ${\n",
              "            file.lastModifiedDate ? file.lastModifiedDate.toLocaleDateString() :\n",
              "                                    'n/a'} - `));\n",
              "    const percent = span('0% done');\n",
              "    li.appendChild(percent);\n",
              "\n",
              "    outputElement.appendChild(li);\n",
              "\n",
              "    const fileDataPromise = new Promise((resolve) => {\n",
              "      const reader = new FileReader();\n",
              "      reader.onload = (e) => {\n",
              "        resolve(e.target.result);\n",
              "      };\n",
              "      reader.readAsArrayBuffer(file);\n",
              "    });\n",
              "    // Wait for the data to be ready.\n",
              "    let fileData = yield {\n",
              "      promise: fileDataPromise,\n",
              "      response: {\n",
              "        action: 'continue',\n",
              "      }\n",
              "    };\n",
              "\n",
              "    // Use a chunked sending to avoid message size limits. See b/62115660.\n",
              "    let position = 0;\n",
              "    do {\n",
              "      const length = Math.min(fileData.byteLength - position, MAX_PAYLOAD_SIZE);\n",
              "      const chunk = new Uint8Array(fileData, position, length);\n",
              "      position += length;\n",
              "\n",
              "      const base64 = btoa(String.fromCharCode.apply(null, chunk));\n",
              "      yield {\n",
              "        response: {\n",
              "          action: 'append',\n",
              "          file: file.name,\n",
              "          data: base64,\n",
              "        },\n",
              "      };\n",
              "\n",
              "      let percentDone = fileData.byteLength === 0 ?\n",
              "          100 :\n",
              "          Math.round((position / fileData.byteLength) * 100);\n",
              "      percent.textContent = `${percentDone}% done`;\n",
              "\n",
              "    } while (position < fileData.byteLength);\n",
              "  }\n",
              "\n",
              "  // All done.\n",
              "  yield {\n",
              "    response: {\n",
              "      action: 'complete',\n",
              "    }\n",
              "  };\n",
              "}\n",
              "\n",
              "scope.google = scope.google || {};\n",
              "scope.google.colab = scope.google.colab || {};\n",
              "scope.google.colab._files = {\n",
              "  _uploadFiles,\n",
              "  _uploadFilesContinue,\n",
              "};\n",
              "})(self);\n",
              "</script> "
            ]
          },
          "metadata": {}
        },
        {
          "output_type": "stream",
          "name": "stdout",
          "text": [
            "Saving jabodetabek_house_price.csv to jabodetabek_house_price.csv\n"
          ]
        }
      ],
      "source": [
        "from google.colab import files\n",
        "\n",
        "uploaded = files.upload()"
      ]
    },
    {
      "cell_type": "markdown",
      "source": [
        "## **Import Library**"
      ],
      "metadata": {
        "id": "4cTIMVKytICs"
      }
    },
    {
      "cell_type": "code",
      "source": [
        "from sklearn.ensemble import RandomForestRegressor\n",
        "from sklearn.model_selection import train_test_split\n",
        "from sklearn.metrics import mean_absolute_error, mean_squared_error, r2_score\n",
        "import matplotlib.pyplot as plt\n",
        "import seaborn as sns\n",
        "import numpy as np\n",
        "import pandas as pd"
      ],
      "metadata": {
        "id": "-60wH_XBP4Xi"
      },
      "execution_count": 5,
      "outputs": []
    },
    {
      "cell_type": "markdown",
      "source": [
        "## **Load Dataset**"
      ],
      "metadata": {
        "id": "zLShPgvutRCd"
      }
    },
    {
      "cell_type": "code",
      "source": [
        "data = pd.read_csv('jabodetabek_house_price.csv')"
      ],
      "metadata": {
        "id": "G4AfpVistbQG"
      },
      "execution_count": 6,
      "outputs": []
    },
    {
      "cell_type": "markdown",
      "source": [
        "## **Pisahkan Fitur dan Target**"
      ],
      "metadata": {
        "id": "69rq_i2Otu-f"
      }
    },
    {
      "cell_type": "code",
      "source": [
        "X_raw = data.drop(['price_in_rp', 'facilities'], axis=1, errors='ignore')\n",
        "y_raw = data['price_in_rp']"
      ],
      "metadata": {
        "id": "ZVOre6NGP6Ca"
      },
      "execution_count": 7,
      "outputs": []
    },
    {
      "cell_type": "markdown",
      "source": [
        "## **Preprocessing Data**"
      ],
      "metadata": {
        "id": "5NlnLcgtuAkp"
      }
    },
    {
      "cell_type": "code",
      "source": [
        "X_raw = X_raw.select_dtypes(include=['int64', 'float64']).fillna(0)  # Ambil fitur numerik saja"
      ],
      "metadata": {
        "id": "JlTuMVpSP7uy"
      },
      "execution_count": 8,
      "outputs": []
    },
    {
      "cell_type": "markdown",
      "source": [
        "## **Split Data Training & Testing**"
      ],
      "metadata": {
        "id": "qPn1vESeuyE_"
      }
    },
    {
      "cell_type": "code",
      "source": [
        "X_train_raw, X_test_raw, y_train_raw, y_test_raw = train_test_split(X_raw, y_raw, test_size=0.2, random_state=42)"
      ],
      "metadata": {
        "id": "pFLkg_LLuyqv"
      },
      "execution_count": 9,
      "outputs": []
    },
    {
      "cell_type": "markdown",
      "source": [
        "## **Training Model**"
      ],
      "metadata": {
        "id": "Lv4U_nKgupV-"
      }
    },
    {
      "cell_type": "code",
      "source": [
        "rf_simple = RandomForestRegressor(random_state=42)\n",
        "rf_simple.fit(X_train_raw, y_train_raw)\n",
        "y_pred_raw = rf_simple.predict(X_test_raw)"
      ],
      "metadata": {
        "id": "IsSqOpAuP-GC"
      },
      "execution_count": 10,
      "outputs": []
    },
    {
      "cell_type": "markdown",
      "source": [
        "## **Evaluasi Model**"
      ],
      "metadata": {
        "id": "Y2ljCdE_ueZ8"
      }
    },
    {
      "cell_type": "code",
      "source": [
        "print(\"MAE:\", mean_absolute_error(y_test_raw, y_pred_raw))\n",
        "print(\"MSE:\", mean_squared_error(y_test_raw, y_pred_raw))\n",
        "print(\"RMSE:\", np.sqrt(mean_squared_error(y_test_raw, y_pred_raw)))\n",
        "print(\"R2 Score:\", r2_score(y_test_raw, y_pred_raw))"
      ],
      "metadata": {
        "colab": {
          "base_uri": "https://localhost:8080/"
        },
        "id": "paPTHTsLQAUC",
        "outputId": "d4dfe76b-d6ce-46f0-d4e1-468f6bf7f7bf"
      },
      "execution_count": 11,
      "outputs": [
        {
          "output_type": "stream",
          "name": "stdout",
          "text": [
            "MAE: 1589833710.9867003\n",
            "MSE: 4.2082716319241585e+19\n",
            "RMSE: 6487119261.98691\n",
            "R2 Score: 0.42304203397639384\n"
          ]
        }
      ]
    },
    {
      "cell_type": "markdown",
      "source": [
        "## **Feature Importance**"
      ],
      "metadata": {
        "id": "QK9TWlb6uZOM"
      }
    },
    {
      "cell_type": "code",
      "source": [
        "importances = rf_simple.feature_importances_\n",
        "indices = np.argsort(importances)[::-1]"
      ],
      "metadata": {
        "id": "PtlCM7tOQ60C"
      },
      "execution_count": 12,
      "outputs": []
    },
    {
      "cell_type": "code",
      "source": [
        "feature_names_raw = X_raw.columns.tolist()"
      ],
      "metadata": {
        "id": "ZtsQfLweQ9rg"
      },
      "execution_count": 13,
      "outputs": []
    },
    {
      "cell_type": "code",
      "source": [
        "print(\"\\nFeature Importance (Eksperimen 1):\")\n",
        "for i in range(len(importances)):\n",
        "    print(f\"{feature_names_raw[indices[i]]}: {importances[indices[i]]:.4f}\")"
      ],
      "metadata": {
        "colab": {
          "base_uri": "https://localhost:8080/"
        },
        "id": "eWowi-kdRCpq",
        "outputId": "44b8e7db-4c98-437a-c152-6073ed99b5b0"
      },
      "execution_count": 14,
      "outputs": [
        {
          "output_type": "stream",
          "name": "stdout",
          "text": [
            "\n",
            "Feature Importance (Eksperimen 1):\n",
            "building_size_m2: 0.3582\n",
            "land_size_m2: 0.2530\n",
            "bedrooms: 0.0785\n",
            "year_built: 0.0607\n",
            "lat: 0.0433\n",
            "maid_bedrooms: 0.0402\n",
            "maid_bathrooms: 0.0355\n",
            "long: 0.0352\n",
            "garages: 0.0259\n",
            "bathrooms: 0.0220\n",
            "building_age: 0.0212\n",
            "carports: 0.0192\n",
            "floors: 0.0071\n"
          ]
        }
      ]
    },
    {
      "cell_type": "markdown",
      "source": [
        "## **Visualisasi Feature Importance**"
      ],
      "metadata": {
        "id": "iw-hKl8puSe9"
      }
    },
    {
      "cell_type": "code",
      "source": [
        "plt.figure(figsize=(14, 10))\n",
        "sns.barplot(x=importances[indices], y=np.array(feature_names_raw)[indices], orient='h')\n",
        "plt.title('Feature Importance (Eksperimen 1)', fontsize=16)\n",
        "plt.xlabel('Importance', fontsize=12)\n",
        "plt.ylabel('Feature', fontsize=12)\n",
        "plt.yticks(fontsize=10)\n",
        "plt.tight_layout()\n",
        "plt.show()"
      ],
      "metadata": {
        "colab": {
          "base_uri": "https://localhost:8080/",
          "height": 1000
        },
        "id": "4flDUiUFRD6n",
        "outputId": "98323767-8f22-4ba1-9279-77783e7bde11"
      },
      "execution_count": 15,
      "outputs": [
        {
          "output_type": "display_data",
          "data": {
            "text/plain": [
              "<Figure size 1400x1000 with 1 Axes>"
            ],
            "image/png": "[encoded data removed]"
          },
          "metadata": {}
        }
      ]
    },
    {
      "cell_type": "markdown",
      "source": [
        "**Kesimpulan 1**\n",
        "\n",
        "Berdasarkan hasil eksperimen, model Random Forest mampu memprediksi harga rumah dengan tingkat akurasi sedang (R² sebesar 42%), yang menunjukkan bahwa sekitar 42% variasi harga dapat dijelaskan oleh fitur-fitur yang digunakan. Meskipun demikian, nilai MAE dan RMSE yang masih tinggi menunjukkan bahwa terdapat kesalahan prediksi yang cukup besar. Fitur paling berpengaruh dalam menentukan harga rumah adalah luas bangunan dan luas tanah, sementara fitur seperti jumlah lantai dan carport memiliki pengaruh yang kecil. Secara umum, model ini sudah dapat menangkap pola dasar dari data, namun masih perlu ditingkatkan melalui penambahan fitur yang lebih relevan dan teknik pemrosesan data yang lebih baik."
      ],
      "metadata": {
        "id": "kRvoTiW-vXPS"
      }
    }
  ]
}